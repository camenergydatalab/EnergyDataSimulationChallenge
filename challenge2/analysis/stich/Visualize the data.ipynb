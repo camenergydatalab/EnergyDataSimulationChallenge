{
 "cells": [
  {
   "cell_type": "markdown",
   "metadata": {},
   "source": [
    "# Visualization of Electricity Consumption\n",
    "** Challenge 2 **\n",
    "\n",
    "by Christoph Stich\n",
    "\n",
    "March 3, 2016"
   ]
  },
  {
   "cell_type": "code",
   "execution_count": null,
   "metadata": {
    "collapsed": false
   },
   "outputs": [],
   "source": [
    "from sklearn import cluster\n",
    "\n",
    "import datetime\n",
    "import itertools\n",
    "import matplotlib.pyplot as plt\n",
    "import pandas as pd\n",
    "import numpy as np\n",
    "import seaborn as sns\n",
    "\n",
    "%matplotlib inline"
   ]
  },
  {
   "cell_type": "markdown",
   "metadata": {},
   "source": [
    "## Exploring the data"
   ]
  },
  {
   "cell_type": "code",
   "execution_count": null,
   "metadata": {
    "collapsed": false
   },
   "outputs": [],
   "source": [
    "df = pd.read_csv(\"~/git/EnergyDataSimulationChallenge/challenge2/data/total_watt.csv\", header=None, \n",
    "                 parse_dates=0, index_col=0, names=['datetime', 'consumption'])\n",
    "df['date'] = df.index.date\n",
    "df['time'] = df.index.time\n",
    "df['weekday'] = df.index.weekday"
   ]
  },
  {
   "cell_type": "code",
   "execution_count": null,
   "metadata": {
    "collapsed": false
   },
   "outputs": [],
   "source": [
    "ax = df.plot(figsize=(14, 8.75), y='consumption', legend=False)\n",
    "plt.title('Timeseries Consumption')\n",
    "plt.xlabel('Datetime')\n",
    "plt.ylabel('Consumption')"
   ]
  },
  {
   "cell_type": "markdown",
   "metadata": {},
   "source": [
    "When looking at the time series of the electricity consumption, one can see that the data is rather 'spiky' and high values are rare. It also looks like that the peaks of the time series are periodic. Furthermore, there is a gap in the data between 10:22PM, May 3, 2011 and 2:22PM, May 6, 2011."
   ]
  },
  {
   "cell_type": "code",
   "execution_count": null,
   "metadata": {
    "collapsed": false
   },
   "outputs": [],
   "source": [
    "Y = np.fft.fft(df['consumption'])\n",
    "N = len(Y)/2+1\n",
    "fa = 1.0/(30.0*60.0) # every 15 minutes\n",
    "X = np.linspace(0, fa/2, N, endpoint=True)\n",
    "Xp = 1.0/X \n",
    "Xph= Xp/(60.0*60.0) \n",
    "\n",
    "fig, ax = plt.subplots(figsize=(14, 8.75))\n",
    "plt.plot(Xph, 2.0*np.abs(Y[:N])/N)\n",
    "plt.xticks([11, 21, 24, 27, 33, 84, 160])\n",
    "plt.title('Frequency spectrum')\n",
    "plt.xlim(0, 180)\n",
    "plt.ylim(0, 400)\n",
    "plt.xlabel('Period(h)')"
   ]
  },
  {
   "cell_type": "markdown",
   "metadata": {},
   "source": [
    "By applying the fourier transform I can visualize the time series in the frequence domain. The figure shows several peaks that can be interpreted as the \"human\" rhythm of electricity consumption. The peak at 11 hours can be attributed to the human diurnal rhythm, whereas the peaks at 21, 24, and 27 hours are most likely related to the daily pattern of behavior. The next peak at 33 hours is probably attributable to the diurnal pattern as 33 hours is roughly 1.5 * 24. After that the peaks at 84 and 160 hours represent half-weekly and weekly patterns respectively."
   ]
  },
  {
   "cell_type": "code",
   "execution_count": null,
   "metadata": {
    "collapsed": false,
    "scrolled": false
   },
   "outputs": [],
   "source": [
    "fig, ax = plt.subplots(figsize=(14, 8.75))\n",
    "sns.distplot(df['consumption'], kde=False)\n",
    "plt.title('Histogram of Consumption')\n",
    "plt.xlabel('Consumption')\n",
    "plt.ylabel('# of Observations')\n",
    "print('Mean: ', df['consumption'].mean())\n",
    "print('Standard Deviation: ', df['consumption'].std())"
   ]
  },
  {
   "cell_type": "markdown",
   "metadata": {},
   "source": [
    "A good starting point is also to look at the distribution of individual observations of consumption. The histogram clearly depicts a heavily skewed distribution. Its mean are ~510 and its standard deviation ~789. The large standard deviation is related to the fact that the tail of the distribution is heavier than one would initially suspect. Arguably the events in the tail are what are most interesting to electricity providers as they have to be able to supply sufficient electricity even during a sudden rise in consumption."
   ]
  },
  {
   "cell_type": "markdown",
   "metadata": {},
   "source": [
    "## Daily consumption"
   ]
  },
  {
   "cell_type": "code",
   "execution_count": null,
   "metadata": {
    "collapsed": false
   },
   "outputs": [],
   "source": [
    "# We want to fix the missing datetime indices before plotting some more things\n",
    "idx_left = pd.date_range(df.index[0], df.index[-1], freq='1H')\n",
    "idx_right = pd.date_range(df.index[1], df.index[-1], freq='1H')\n",
    "idx = [val for pair in zip(idx_left, idx_right) for val in pair]\n",
    "filled = df.reindex(idx, fill_value=0)\n",
    "filled['date'] = filled.index.date\n",
    "filled['time'] = filled.index.time\n",
    "filled['weekday'] = filled.index.weekday\n",
    "\n",
    "fig, ax = plt.subplots(figsize=(14, 8.75))\n",
    "sns.barplot(x='date', y='consumption', data=filled, hue='weekday', palette='Set2', ci=None)\n",
    "# This is arguably a bit hacky but still faster than estimating the CI by hand and plotting everything with plt.bar\n",
    "palette = itertools.cycle(sns.color_palette(\"Set2\", 7))\n",
    "sns.barplot(x='date', y='consumption', palette=palette, data=filled, ci=95)\n",
    "plt.title('Daily consumption')\n",
    "plt.xlabel('Date')\n",
    "plt.ylabel('Consumption')\n",
    "plt.xticks(rotation='vertical')"
   ]
  },
  {
   "cell_type": "markdown",
   "metadata": {},
   "source": [
    "The plot shows the aggregated daily consumption with bootstrapped confidence intervalls of 95%. The week starts on a Monday (\"0\"). Almost all days of a high consumption fall on a weekend. The confidence interval for days with high consumption are relatively large as well, indicating a relatively large variation in measured values. For the other days the confidence intervals are consequentially smaller."
   ]
  },
  {
   "cell_type": "markdown",
   "metadata": {},
   "source": [
    "## Aggregated half-hourly consumption"
   ]
  },
  {
   "cell_type": "code",
   "execution_count": null,
   "metadata": {
    "collapsed": false
   },
   "outputs": [],
   "source": [
    "fig, ax = plt.subplots(figsize=(14, 8.75))\n",
    "order = list(sorted(set(df['time'].values)))\n",
    "sns.barplot(x='time', y='consumption', color='salmon', order=order, data=filled, ci=95)\n",
    "plt.title('Half-hourly consumption')\n",
    "plt.xlabel('Timestamp')\n",
    "plt.ylabel('Consumption')\n",
    "plt.xticks(rotation='vertical')"
   ]
  },
  {
   "cell_type": "markdown",
   "metadata": {},
   "source": [
    "I generate this figure by aggregating all observations at each half-hour timeslot. The figure reveals a relatively stable period of low consumption between 4:52 and 9:52. There is also a slight peak around noon, which is probably related to cookin. After that the average consumption varies before it peaks again in the evening."
   ]
  },
  {
   "cell_type": "markdown",
   "metadata": {},
   "source": [
    "## Heatmap"
   ]
  },
  {
   "cell_type": "code",
   "execution_count": null,
   "metadata": {
    "collapsed": false
   },
   "outputs": [],
   "source": [
    "m = filled.pivot(index='date', columns='time', values='consumption')\n",
    "m = m.fillna(0.0)\n",
    "\n",
    "fig, ax = plt.subplots(figsize=(14, 8.75))\n",
    "yticks = sorted(set(str(label)[:10] for label in filled.index.values))\n",
    "ax = sns.heatmap(m, square=True, cmap='Spectral_r', linewidths=.5, yticklabels=yticks)\n",
    "plt.title('Heatmap of consumption')\n",
    "plt.xlabel('Time')\n",
    "plt.ylabel('Date')"
   ]
  },
  {
   "cell_type": "markdown",
   "metadata": {},
   "source": [
    "In this figure rows represent days, columns represent time, and the color value depicts the magnitude of the observation. This figure reveals that high values are spatially clustered in the time as well as the day dimension. In other words, high values occur during the evening on weekends (including Friday evening). It would be quite an interesting problem to figure out if we could predict those high values reliably. "
   ]
  },
  {
   "cell_type": "markdown",
   "metadata": {},
   "source": [
    "## Clustering\n",
    "I chose to use k-means for clustering the measurements into a low, medium, and high cluster of power consumption for two reasons: a) k-means only needs one paramter---k, the number of clusters---and this is already given and b) while the euclidean distance the algorithm is based on is ill-behaved in high dimensions (\"curse of dimensionality\"), we use only one dimension (\"power consumption\") for clustering. "
   ]
  },
  {
   "cell_type": "code",
   "execution_count": null,
   "metadata": {
    "collapsed": false
   },
   "outputs": [],
   "source": [
    "kmeans = cluster.KMeans(n_clusters=3, n_init=500)\n",
    "kmeans.fit(np.asarray(df['consumption']).reshape(-1, 1))\n",
    "df['cluster'] = kmeans.labels_\n",
    "\n",
    "fig, ax = plt.subplots(figsize=(14, 8.75))\n",
    "sns.stripplot(y='consumption', x='cluster', data=df, jitter=True)\n",
    "plt.title('K-means clustering')\n",
    "plt.xlabel('Cluster')\n",
    "plt.ylabel('Consumption')"
   ]
  },
  {
   "cell_type": "markdown",
   "metadata": {},
   "source": [
    "The figure shows the three clusters of low, medium, and high power consumption. The low cluster is the most dense and also has the most observations. The medium cluster has fewer observations and more variance than the lower cluster. Last but not least the high cluster"
   ]
  },
  {
   "cell_type": "markdown",
   "metadata": {},
   "source": [
    "## What to do next?\n",
    "1. Analyse the periodicity of the time series in more detail. Potentially build an AR, MA, or ARMA model.\n",
    "2. Build a machine learning model that is able to predict peaks in the power consumption. Potentially gather more data for this."
   ]
  }
 ],
 "metadata": {
  "kernelspec": {
   "display_name": "Python 3",
   "language": "python",
   "name": "python3"
  },
  "language_info": {
   "codemirror_mode": {
    "name": "ipython",
    "version": 3
   },
   "file_extension": ".py",
   "mimetype": "text/x-python",
   "name": "python",
   "nbconvert_exporter": "python",
   "pygments_lexer": "ipython3",
   "version": "3.4.4"
  }
 },
 "nbformat": 4,
 "nbformat_minor": 0
}
