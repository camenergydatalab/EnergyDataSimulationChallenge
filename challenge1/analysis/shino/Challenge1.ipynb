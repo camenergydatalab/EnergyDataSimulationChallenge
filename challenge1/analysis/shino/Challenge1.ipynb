{
 "cells": [
  {
   "cell_type": "code",
   "execution_count": 1,
   "metadata": {},
   "outputs": [],
   "source": [
    "import numpy as np\n",
    "import pandas as pd\n",
    "import matplotlib.pyplot as plt\n",
    "import seaborn as sns"
   ]
  },
  {
   "cell_type": "code",
   "execution_count": 2,
   "metadata": {},
   "outputs": [],
   "source": [
    "from sklearn.linear_model import LinearRegression\n",
    "from sklearn.linear_model import LogisticRegression\n",
    "from sklearn.ensemble import RandomForestClassifier"
   ]
  },
  {
   "cell_type": "code",
   "execution_count": 3,
   "metadata": {},
   "outputs": [],
   "source": [
    "train_df = pd.read_csv('../../data/training_dataset_500.csv')\n",
    "test_df = pd.read_csv('../../data/test_dataset_500.csv')"
   ]
  },
  {
   "cell_type": "code",
   "execution_count": 4,
   "metadata": {},
   "outputs": [
    {
     "data": {
      "text/html": [
       "<div>\n",
       "<style scoped>\n",
       "    .dataframe tbody tr th:only-of-type {\n",
       "        vertical-align: middle;\n",
       "    }\n",
       "\n",
       "    .dataframe tbody tr th {\n",
       "        vertical-align: top;\n",
       "    }\n",
       "\n",
       "    .dataframe thead th {\n",
       "        text-align: right;\n",
       "    }\n",
       "</style>\n",
       "<table border=\"1\" class=\"dataframe\">\n",
       "  <thead>\n",
       "    <tr style=\"text-align: right;\">\n",
       "      <th></th>\n",
       "      <th>ID</th>\n",
       "      <th>Label</th>\n",
       "      <th>House</th>\n",
       "      <th>Year</th>\n",
       "      <th>Month</th>\n",
       "      <th>Temperature</th>\n",
       "      <th>Daylight</th>\n",
       "      <th>EnergyProduction</th>\n",
       "    </tr>\n",
       "  </thead>\n",
       "  <tbody>\n",
       "    <tr>\n",
       "      <td>0</td>\n",
       "      <td>0</td>\n",
       "      <td>0</td>\n",
       "      <td>1</td>\n",
       "      <td>2011</td>\n",
       "      <td>7</td>\n",
       "      <td>26.2</td>\n",
       "      <td>178.9</td>\n",
       "      <td>740</td>\n",
       "    </tr>\n",
       "    <tr>\n",
       "      <td>1</td>\n",
       "      <td>1</td>\n",
       "      <td>1</td>\n",
       "      <td>1</td>\n",
       "      <td>2011</td>\n",
       "      <td>8</td>\n",
       "      <td>25.8</td>\n",
       "      <td>169.7</td>\n",
       "      <td>731</td>\n",
       "    </tr>\n",
       "    <tr>\n",
       "      <td>2</td>\n",
       "      <td>2</td>\n",
       "      <td>2</td>\n",
       "      <td>1</td>\n",
       "      <td>2011</td>\n",
       "      <td>9</td>\n",
       "      <td>22.8</td>\n",
       "      <td>170.2</td>\n",
       "      <td>694</td>\n",
       "    </tr>\n",
       "    <tr>\n",
       "      <td>3</td>\n",
       "      <td>3</td>\n",
       "      <td>3</td>\n",
       "      <td>1</td>\n",
       "      <td>2011</td>\n",
       "      <td>10</td>\n",
       "      <td>16.4</td>\n",
       "      <td>169.1</td>\n",
       "      <td>688</td>\n",
       "    </tr>\n",
       "    <tr>\n",
       "      <td>4</td>\n",
       "      <td>4</td>\n",
       "      <td>4</td>\n",
       "      <td>1</td>\n",
       "      <td>2011</td>\n",
       "      <td>11</td>\n",
       "      <td>11.4</td>\n",
       "      <td>169.1</td>\n",
       "      <td>650</td>\n",
       "    </tr>\n",
       "    <tr>\n",
       "      <td>5</td>\n",
       "      <td>5</td>\n",
       "      <td>5</td>\n",
       "      <td>1</td>\n",
       "      <td>2011</td>\n",
       "      <td>12</td>\n",
       "      <td>4.2</td>\n",
       "      <td>199.5</td>\n",
       "      <td>763</td>\n",
       "    </tr>\n",
       "    <tr>\n",
       "      <td>6</td>\n",
       "      <td>6</td>\n",
       "      <td>6</td>\n",
       "      <td>1</td>\n",
       "      <td>2012</td>\n",
       "      <td>1</td>\n",
       "      <td>1.8</td>\n",
       "      <td>203.1</td>\n",
       "      <td>765</td>\n",
       "    </tr>\n",
       "    <tr>\n",
       "      <td>7</td>\n",
       "      <td>7</td>\n",
       "      <td>7</td>\n",
       "      <td>1</td>\n",
       "      <td>2012</td>\n",
       "      <td>2</td>\n",
       "      <td>2.8</td>\n",
       "      <td>178.2</td>\n",
       "      <td>706</td>\n",
       "    </tr>\n",
       "    <tr>\n",
       "      <td>8</td>\n",
       "      <td>8</td>\n",
       "      <td>8</td>\n",
       "      <td>1</td>\n",
       "      <td>2012</td>\n",
       "      <td>3</td>\n",
       "      <td>6.7</td>\n",
       "      <td>172.7</td>\n",
       "      <td>788</td>\n",
       "    </tr>\n",
       "    <tr>\n",
       "      <td>9</td>\n",
       "      <td>9</td>\n",
       "      <td>9</td>\n",
       "      <td>1</td>\n",
       "      <td>2012</td>\n",
       "      <td>4</td>\n",
       "      <td>12.6</td>\n",
       "      <td>182.2</td>\n",
       "      <td>831</td>\n",
       "    </tr>\n",
       "    <tr>\n",
       "      <td>10</td>\n",
       "      <td>10</td>\n",
       "      <td>10</td>\n",
       "      <td>1</td>\n",
       "      <td>2012</td>\n",
       "      <td>5</td>\n",
       "      <td>17.6</td>\n",
       "      <td>214.2</td>\n",
       "      <td>955</td>\n",
       "    </tr>\n",
       "    <tr>\n",
       "      <td>11</td>\n",
       "      <td>11</td>\n",
       "      <td>11</td>\n",
       "      <td>1</td>\n",
       "      <td>2012</td>\n",
       "      <td>6</td>\n",
       "      <td>20.8</td>\n",
       "      <td>143.0</td>\n",
       "      <td>837</td>\n",
       "    </tr>\n",
       "  </tbody>\n",
       "</table>\n",
       "</div>"
      ],
      "text/plain": [
       "    ID  Label  House  Year  Month  Temperature  Daylight  EnergyProduction\n",
       "0    0      0      1  2011      7         26.2     178.9               740\n",
       "1    1      1      1  2011      8         25.8     169.7               731\n",
       "2    2      2      1  2011      9         22.8     170.2               694\n",
       "3    3      3      1  2011     10         16.4     169.1               688\n",
       "4    4      4      1  2011     11         11.4     169.1               650\n",
       "5    5      5      1  2011     12          4.2     199.5               763\n",
       "6    6      6      1  2012      1          1.8     203.1               765\n",
       "7    7      7      1  2012      2          2.8     178.2               706\n",
       "8    8      8      1  2012      3          6.7     172.7               788\n",
       "9    9      9      1  2012      4         12.6     182.2               831\n",
       "10  10     10      1  2012      5         17.6     214.2               955\n",
       "11  11     11      1  2012      6         20.8     143.0               837"
      ]
     },
     "execution_count": 4,
     "metadata": {},
     "output_type": "execute_result"
    }
   ],
   "source": [
    "train_df.head(12)"
   ]
  },
  {
   "cell_type": "code",
   "execution_count": 5,
   "metadata": {},
   "outputs": [
    {
     "data": {
      "text/html": [
       "<div>\n",
       "<style scoped>\n",
       "    .dataframe tbody tr th:only-of-type {\n",
       "        vertical-align: middle;\n",
       "    }\n",
       "\n",
       "    .dataframe tbody tr th {\n",
       "        vertical-align: top;\n",
       "    }\n",
       "\n",
       "    .dataframe thead th {\n",
       "        text-align: right;\n",
       "    }\n",
       "</style>\n",
       "<table border=\"1\" class=\"dataframe\">\n",
       "  <thead>\n",
       "    <tr style=\"text-align: right;\">\n",
       "      <th></th>\n",
       "      <th>ID</th>\n",
       "      <th>Label</th>\n",
       "      <th>House</th>\n",
       "      <th>Year</th>\n",
       "      <th>Month</th>\n",
       "      <th>Temperature</th>\n",
       "      <th>Daylight</th>\n",
       "      <th>EnergyProduction</th>\n",
       "    </tr>\n",
       "  </thead>\n",
       "  <tbody>\n",
       "    <tr>\n",
       "      <td>11488</td>\n",
       "      <td>11987</td>\n",
       "      <td>11</td>\n",
       "      <td>500</td>\n",
       "      <td>2012</td>\n",
       "      <td>6</td>\n",
       "      <td>21.8</td>\n",
       "      <td>152.1</td>\n",
       "      <td>645</td>\n",
       "    </tr>\n",
       "    <tr>\n",
       "      <td>11489</td>\n",
       "      <td>11988</td>\n",
       "      <td>12</td>\n",
       "      <td>500</td>\n",
       "      <td>2012</td>\n",
       "      <td>7</td>\n",
       "      <td>26.2</td>\n",
       "      <td>169.8</td>\n",
       "      <td>661</td>\n",
       "    </tr>\n",
       "    <tr>\n",
       "      <td>11490</td>\n",
       "      <td>11989</td>\n",
       "      <td>13</td>\n",
       "      <td>500</td>\n",
       "      <td>2012</td>\n",
       "      <td>8</td>\n",
       "      <td>27.8</td>\n",
       "      <td>257.9</td>\n",
       "      <td>822</td>\n",
       "    </tr>\n",
       "    <tr>\n",
       "      <td>11491</td>\n",
       "      <td>11990</td>\n",
       "      <td>14</td>\n",
       "      <td>500</td>\n",
       "      <td>2012</td>\n",
       "      <td>9</td>\n",
       "      <td>24.7</td>\n",
       "      <td>183.2</td>\n",
       "      <td>665</td>\n",
       "    </tr>\n",
       "    <tr>\n",
       "      <td>11492</td>\n",
       "      <td>11991</td>\n",
       "      <td>15</td>\n",
       "      <td>500</td>\n",
       "      <td>2012</td>\n",
       "      <td>10</td>\n",
       "      <td>17.4</td>\n",
       "      <td>201.2</td>\n",
       "      <td>655</td>\n",
       "    </tr>\n",
       "    <tr>\n",
       "      <td>11493</td>\n",
       "      <td>11992</td>\n",
       "      <td>16</td>\n",
       "      <td>500</td>\n",
       "      <td>2012</td>\n",
       "      <td>11</td>\n",
       "      <td>9.7</td>\n",
       "      <td>203.5</td>\n",
       "      <td>582</td>\n",
       "    </tr>\n",
       "    <tr>\n",
       "      <td>11494</td>\n",
       "      <td>11993</td>\n",
       "      <td>17</td>\n",
       "      <td>500</td>\n",
       "      <td>2012</td>\n",
       "      <td>12</td>\n",
       "      <td>3.8</td>\n",
       "      <td>194.2</td>\n",
       "      <td>534</td>\n",
       "    </tr>\n",
       "    <tr>\n",
       "      <td>11495</td>\n",
       "      <td>11994</td>\n",
       "      <td>18</td>\n",
       "      <td>500</td>\n",
       "      <td>2013</td>\n",
       "      <td>1</td>\n",
       "      <td>2.0</td>\n",
       "      <td>234.6</td>\n",
       "      <td>640</td>\n",
       "    </tr>\n",
       "    <tr>\n",
       "      <td>11496</td>\n",
       "      <td>11995</td>\n",
       "      <td>19</td>\n",
       "      <td>500</td>\n",
       "      <td>2013</td>\n",
       "      <td>2</td>\n",
       "      <td>4.2</td>\n",
       "      <td>201.8</td>\n",
       "      <td>638</td>\n",
       "    </tr>\n",
       "    <tr>\n",
       "      <td>11497</td>\n",
       "      <td>11996</td>\n",
       "      <td>20</td>\n",
       "      <td>500</td>\n",
       "      <td>2013</td>\n",
       "      <td>3</td>\n",
       "      <td>11.2</td>\n",
       "      <td>234.0</td>\n",
       "      <td>778</td>\n",
       "    </tr>\n",
       "    <tr>\n",
       "      <td>11498</td>\n",
       "      <td>11997</td>\n",
       "      <td>21</td>\n",
       "      <td>500</td>\n",
       "      <td>2013</td>\n",
       "      <td>4</td>\n",
       "      <td>13.6</td>\n",
       "      <td>237.1</td>\n",
       "      <td>758</td>\n",
       "    </tr>\n",
       "    <tr>\n",
       "      <td>11499</td>\n",
       "      <td>11998</td>\n",
       "      <td>22</td>\n",
       "      <td>500</td>\n",
       "      <td>2013</td>\n",
       "      <td>5</td>\n",
       "      <td>19.2</td>\n",
       "      <td>258.4</td>\n",
       "      <td>838</td>\n",
       "    </tr>\n",
       "  </tbody>\n",
       "</table>\n",
       "</div>"
      ],
      "text/plain": [
       "          ID  Label  House  Year  Month  Temperature  Daylight  \\\n",
       "11488  11987     11    500  2012      6         21.8     152.1   \n",
       "11489  11988     12    500  2012      7         26.2     169.8   \n",
       "11490  11989     13    500  2012      8         27.8     257.9   \n",
       "11491  11990     14    500  2012      9         24.7     183.2   \n",
       "11492  11991     15    500  2012     10         17.4     201.2   \n",
       "11493  11992     16    500  2012     11          9.7     203.5   \n",
       "11494  11993     17    500  2012     12          3.8     194.2   \n",
       "11495  11994     18    500  2013      1          2.0     234.6   \n",
       "11496  11995     19    500  2013      2          4.2     201.8   \n",
       "11497  11996     20    500  2013      3         11.2     234.0   \n",
       "11498  11997     21    500  2013      4         13.6     237.1   \n",
       "11499  11998     22    500  2013      5         19.2     258.4   \n",
       "\n",
       "       EnergyProduction  \n",
       "11488               645  \n",
       "11489               661  \n",
       "11490               822  \n",
       "11491               665  \n",
       "11492               655  \n",
       "11493               582  \n",
       "11494               534  \n",
       "11495               640  \n",
       "11496               638  \n",
       "11497               778  \n",
       "11498               758  \n",
       "11499               838  "
      ]
     },
     "execution_count": 5,
     "metadata": {},
     "output_type": "execute_result"
    }
   ],
   "source": [
    "train_df.tail(12)"
   ]
  },
  {
   "cell_type": "code",
   "execution_count": 6,
   "metadata": {},
   "outputs": [
    {
     "data": {
      "text/plain": [
       "((11500, 8), (500, 8))"
      ]
     },
     "execution_count": 6,
     "metadata": {},
     "output_type": "execute_result"
    }
   ],
   "source": [
    "train_df.shape, test_df.shape"
   ]
  },
  {
   "cell_type": "code",
   "execution_count": 7,
   "metadata": {},
   "outputs": [],
   "source": [
    "train_df_hde = train_df.drop(['Label','Year','Month','Temperature'], axis=1)"
   ]
  },
  {
   "cell_type": "code",
   "execution_count": 8,
   "metadata": {},
   "outputs": [
    {
     "data": {
      "text/html": [
       "<div>\n",
       "<style scoped>\n",
       "    .dataframe tbody tr th:only-of-type {\n",
       "        vertical-align: middle;\n",
       "    }\n",
       "\n",
       "    .dataframe tbody tr th {\n",
       "        vertical-align: top;\n",
       "    }\n",
       "\n",
       "    .dataframe thead th {\n",
       "        text-align: right;\n",
       "    }\n",
       "</style>\n",
       "<table border=\"1\" class=\"dataframe\">\n",
       "  <thead>\n",
       "    <tr style=\"text-align: right;\">\n",
       "      <th></th>\n",
       "      <th>ID</th>\n",
       "      <th>House</th>\n",
       "      <th>Daylight</th>\n",
       "      <th>EnergyProduction</th>\n",
       "    </tr>\n",
       "  </thead>\n",
       "  <tbody>\n",
       "    <tr>\n",
       "      <td>11495</td>\n",
       "      <td>11994</td>\n",
       "      <td>500</td>\n",
       "      <td>234.6</td>\n",
       "      <td>640</td>\n",
       "    </tr>\n",
       "    <tr>\n",
       "      <td>11496</td>\n",
       "      <td>11995</td>\n",
       "      <td>500</td>\n",
       "      <td>201.8</td>\n",
       "      <td>638</td>\n",
       "    </tr>\n",
       "    <tr>\n",
       "      <td>11497</td>\n",
       "      <td>11996</td>\n",
       "      <td>500</td>\n",
       "      <td>234.0</td>\n",
       "      <td>778</td>\n",
       "    </tr>\n",
       "    <tr>\n",
       "      <td>11498</td>\n",
       "      <td>11997</td>\n",
       "      <td>500</td>\n",
       "      <td>237.1</td>\n",
       "      <td>758</td>\n",
       "    </tr>\n",
       "    <tr>\n",
       "      <td>11499</td>\n",
       "      <td>11998</td>\n",
       "      <td>500</td>\n",
       "      <td>258.4</td>\n",
       "      <td>838</td>\n",
       "    </tr>\n",
       "  </tbody>\n",
       "</table>\n",
       "</div>"
      ],
      "text/plain": [
       "          ID  House  Daylight  EnergyProduction\n",
       "11495  11994    500     234.6               640\n",
       "11496  11995    500     201.8               638\n",
       "11497  11996    500     234.0               778\n",
       "11498  11997    500     237.1               758\n",
       "11499  11998    500     258.4               838"
      ]
     },
     "execution_count": 8,
     "metadata": {},
     "output_type": "execute_result"
    }
   ],
   "source": [
    "train_df_hde.tail()"
   ]
  },
  {
   "cell_type": "code",
   "execution_count": 9,
   "metadata": {},
   "outputs": [
    {
     "data": {
      "text/html": [
       "<div>\n",
       "<style scoped>\n",
       "    .dataframe tbody tr th:only-of-type {\n",
       "        vertical-align: middle;\n",
       "    }\n",
       "\n",
       "    .dataframe tbody tr th {\n",
       "        vertical-align: top;\n",
       "    }\n",
       "\n",
       "    .dataframe thead th {\n",
       "        text-align: right;\n",
       "    }\n",
       "</style>\n",
       "<table border=\"1\" class=\"dataframe\">\n",
       "  <thead>\n",
       "    <tr style=\"text-align: right;\">\n",
       "      <th></th>\n",
       "      <th>House</th>\n",
       "      <th>Daylight</th>\n",
       "      <th>EnergyProduction</th>\n",
       "    </tr>\n",
       "  </thead>\n",
       "  <tbody>\n",
       "    <tr>\n",
       "      <td>House</td>\n",
       "      <td>1.000000</td>\n",
       "      <td>0.001583</td>\n",
       "      <td>-0.008303</td>\n",
       "    </tr>\n",
       "    <tr>\n",
       "      <td>Daylight</td>\n",
       "      <td>0.001583</td>\n",
       "      <td>1.000000</td>\n",
       "      <td>0.531577</td>\n",
       "    </tr>\n",
       "    <tr>\n",
       "      <td>EnergyProduction</td>\n",
       "      <td>-0.008303</td>\n",
       "      <td>0.531577</td>\n",
       "      <td>1.000000</td>\n",
       "    </tr>\n",
       "  </tbody>\n",
       "</table>\n",
       "</div>"
      ],
      "text/plain": [
       "                     House  Daylight  EnergyProduction\n",
       "House             1.000000  0.001583         -0.008303\n",
       "Daylight          0.001583  1.000000          0.531577\n",
       "EnergyProduction -0.008303  0.531577          1.000000"
      ]
     },
     "execution_count": 9,
     "metadata": {},
     "output_type": "execute_result"
    }
   ],
   "source": [
    "train_df_hde[['House','Daylight','EnergyProduction']].corr()"
   ]
  },
  {
   "cell_type": "code",
   "execution_count": 10,
   "metadata": {},
   "outputs": [
    {
     "data": {
      "text/plain": [
       "LinearRegression(copy_X=True, fit_intercept=True, n_jobs=None, normalize=False)"
      ]
     },
     "execution_count": 10,
     "metadata": {},
     "output_type": "execute_result"
    }
   ],
   "source": [
    "lr = LinearRegression()\n",
    "X = train_df_hde[['Daylight']].values\n",
    "Y = train_df_hde[['EnergyProduction']].values\n",
    "lr.fit(X,Y)"
   ]
  },
  {
   "cell_type": "code",
   "execution_count": 11,
   "metadata": {},
   "outputs": [
    {
     "name": "stdout",
     "output_type": "stream",
     "text": [
      "coefficient =  [2.56478737]\n",
      "intercept =  [127.69148663]\n"
     ]
    }
   ],
   "source": [
    "print('coefficient = ', lr.coef_[0]) # 説明変数の係数を出力\n",
    "print('intercept = ', lr.intercept_) # 切片を出力"
   ]
  },
  {
   "cell_type": "code",
   "execution_count": 12,
   "metadata": {},
   "outputs": [
    {
     "data": {
      "image/png": "[encoded data removed]",
      "text/plain": [
       "<Figure size 432x288 with 1 Axes>"
      ]
     },
     "metadata": {
      "needs_background": "light"
     },
     "output_type": "display_data"
    }
   ],
   "source": [
    "plt.scatter(X, Y, color = 'blue')         # 説明変数と目的変数のデータ点の散布図をプロット\n",
    "plt.plot(X, lr.predict(X), color = 'red') # 回帰直線をプロット\n",
    "\n",
    "plt.title('Regression Line')            # 図のタイトル\n",
    "plt.xlabel('Daylight')                     # x軸のラベル\n",
    "plt.ylabel('EnergyProduction')    # y軸のラベル\n",
    "plt.grid()                                 # グリッド線を表示\n",
    "\n",
    "plt.show()                                 # 図の表示"
   ]
  },
  {
   "cell_type": "code",
   "execution_count": 13,
   "metadata": {},
   "outputs": [],
   "source": [
    "# DaylightとEnergyProductionに相関はあるが、ばらつきが大きい。\n",
    "# Houseごとに、発電能力に差があるためでは？\n",
    "MeanEnergy = np.mean(train_df_hde['EnergyProduction'])"
   ]
  },
  {
   "cell_type": "code",
   "execution_count": 14,
   "metadata": {},
   "outputs": [
    {
     "name": "stdout",
     "output_type": "stream",
     "text": [
      "612.7488695652174\n"
     ]
    }
   ],
   "source": [
    "print(MeanEnergy)"
   ]
  },
  {
   "cell_type": "code",
   "execution_count": 15,
   "metadata": {},
   "outputs": [],
   "source": [
    "pivot_House = pd.pivot_table(train_df_hde, index='House')\n",
    "# 各Houseごとの発電量の平均を求める"
   ]
  },
  {
   "cell_type": "code",
   "execution_count": 16,
   "metadata": {},
   "outputs": [
    {
     "name": "stdout",
     "output_type": "stream",
     "text": [
      "23.0\n"
     ]
    }
   ],
   "source": [
    "cases_House = train_df.shape[0]/pivot_House.shape[0]\n",
    "print(cases_House)"
   ]
  },
  {
   "cell_type": "code",
   "execution_count": 17,
   "metadata": {},
   "outputs": [],
   "source": [
    "eachHouse_perMeanEnergy = pivot_House/MeanEnergy\n",
    "# 各Houseごとの平均を、全体の平均から求める係数を算出する"
   ]
  },
  {
   "cell_type": "code",
   "execution_count": 18,
   "metadata": {},
   "outputs": [],
   "source": [
    "k_Energy_House_Mean = eachHouse_perMeanEnergy[['EnergyProduction']]"
   ]
  },
  {
   "cell_type": "code",
   "execution_count": 19,
   "metadata": {},
   "outputs": [],
   "source": [
    "k_Energy_House_Mean_array = k_Energy_House_Mean.values"
   ]
  },
  {
   "cell_type": "code",
   "execution_count": 20,
   "metadata": {},
   "outputs": [
    {
     "data": {
      "text/plain": [
       "(500, 1)"
      ]
     },
     "execution_count": 20,
     "metadata": {},
     "output_type": "execute_result"
    }
   ],
   "source": [
    "k_Energy_House_Mean_array.shape"
   ]
  },
  {
   "cell_type": "code",
   "execution_count": 21,
   "metadata": {},
   "outputs": [],
   "source": [
    "test_X = test_df[['Daylight']].values\n",
    "test_Y = test_df[['EnergyProduction']].values"
   ]
  },
  {
   "cell_type": "code",
   "execution_count": 22,
   "metadata": {},
   "outputs": [
    {
     "data": {
      "text/plain": [
       "<matplotlib.collections.PathCollection at 0x7fa7cbd2c750>"
      ]
     },
     "execution_count": 22,
     "metadata": {},
     "output_type": "execute_result"
    },
    {
     "data": {
      "image/png": "[encoded data removed]",
      "text/plain": [
       "<Figure size 432x288 with 1 Axes>"
      ]
     },
     "metadata": {
      "needs_background": "light"
     },
     "output_type": "display_data"
    }
   ],
   "source": [
    "plt.scatter(test_X, test_Y, color='blue')\n",
    "plt.scatter(test_X, lr.predict(test_X), color='black')"
   ]
  },
  {
   "cell_type": "code",
   "execution_count": 23,
   "metadata": {},
   "outputs": [],
   "source": [
    " sim_Y = k_Energy_House_Mean_array * lr.predict(test_X)"
   ]
  },
  {
   "cell_type": "code",
   "execution_count": 24,
   "metadata": {},
   "outputs": [
    {
     "data": {
      "text/plain": [
       "<matplotlib.collections.PathCollection at 0x7fa7cbfc9a50>"
      ]
     },
     "execution_count": 24,
     "metadata": {},
     "output_type": "execute_result"
    },
    {
     "data": {
      "image/png": "[encoded data removed]",
      "text/plain": [
       "<Figure size 432x288 with 1 Axes>"
      ]
     },
     "metadata": {
      "needs_background": "light"
     },
     "output_type": "display_data"
    }
   ],
   "source": [
    "plt.scatter(test_X, lr.predict(test_X), color = 'black') \n",
    "plt.scatter(test_X, sim_Y, color = 'red') \n",
    "plt.scatter(test_X, test_Y, color='blue')\n",
    "# ばらつき具合は、Houseごとの係数を考慮することで表現できている。\n",
    "# 全体的に、発電量が小さい。北半球6月なら、太陽の角度が大きいことを考慮できていないため？"
   ]
  },
  {
   "cell_type": "code",
   "execution_count": 25,
   "metadata": {},
   "outputs": [
    {
     "data": {
      "text/html": [
       "<div>\n",
       "<style scoped>\n",
       "    .dataframe tbody tr th:only-of-type {\n",
       "        vertical-align: middle;\n",
       "    }\n",
       "\n",
       "    .dataframe tbody tr th {\n",
       "        vertical-align: top;\n",
       "    }\n",
       "\n",
       "    .dataframe thead th {\n",
       "        text-align: right;\n",
       "    }\n",
       "</style>\n",
       "<table border=\"1\" class=\"dataframe\">\n",
       "  <thead>\n",
       "    <tr style=\"text-align: right;\">\n",
       "      <th></th>\n",
       "      <th>ID</th>\n",
       "      <th>Label</th>\n",
       "      <th>House</th>\n",
       "      <th>Year</th>\n",
       "      <th>Month</th>\n",
       "      <th>Temperature</th>\n",
       "      <th>Daylight</th>\n",
       "      <th>EnergyProduction</th>\n",
       "    </tr>\n",
       "  </thead>\n",
       "  <tbody>\n",
       "    <tr>\n",
       "      <td>495</td>\n",
       "      <td>11903</td>\n",
       "      <td>23</td>\n",
       "      <td>496</td>\n",
       "      <td>2013</td>\n",
       "      <td>6</td>\n",
       "      <td>19.3</td>\n",
       "      <td>125.9</td>\n",
       "      <td>483</td>\n",
       "    </tr>\n",
       "    <tr>\n",
       "      <td>496</td>\n",
       "      <td>11927</td>\n",
       "      <td>23</td>\n",
       "      <td>497</td>\n",
       "      <td>2013</td>\n",
       "      <td>6</td>\n",
       "      <td>21.9</td>\n",
       "      <td>122.4</td>\n",
       "      <td>628</td>\n",
       "    </tr>\n",
       "    <tr>\n",
       "      <td>497</td>\n",
       "      <td>11951</td>\n",
       "      <td>23</td>\n",
       "      <td>498</td>\n",
       "      <td>2013</td>\n",
       "      <td>6</td>\n",
       "      <td>22.8</td>\n",
       "      <td>127.2</td>\n",
       "      <td>673</td>\n",
       "    </tr>\n",
       "    <tr>\n",
       "      <td>498</td>\n",
       "      <td>11975</td>\n",
       "      <td>23</td>\n",
       "      <td>499</td>\n",
       "      <td>2013</td>\n",
       "      <td>6</td>\n",
       "      <td>21.9</td>\n",
       "      <td>126.8</td>\n",
       "      <td>735</td>\n",
       "    </tr>\n",
       "    <tr>\n",
       "      <td>499</td>\n",
       "      <td>11999</td>\n",
       "      <td>23</td>\n",
       "      <td>500</td>\n",
       "      <td>2013</td>\n",
       "      <td>6</td>\n",
       "      <td>22.7</td>\n",
       "      <td>122.9</td>\n",
       "      <td>586</td>\n",
       "    </tr>\n",
       "  </tbody>\n",
       "</table>\n",
       "</div>"
      ],
      "text/plain": [
       "        ID  Label  House  Year  Month  Temperature  Daylight  EnergyProduction\n",
       "495  11903     23    496  2013      6         19.3     125.9               483\n",
       "496  11927     23    497  2013      6         21.9     122.4               628\n",
       "497  11951     23    498  2013      6         22.8     127.2               673\n",
       "498  11975     23    499  2013      6         21.9     126.8               735\n",
       "499  11999     23    500  2013      6         22.7     122.9               586"
      ]
     },
     "execution_count": 25,
     "metadata": {},
     "output_type": "execute_result"
    }
   ],
   "source": [
    "test_df.tail()"
   ]
  },
  {
   "cell_type": "code",
   "execution_count": 26,
   "metadata": {},
   "outputs": [],
   "source": [
    "# RandomForestを使い、Month, Daylight, House, TemperatureからEnergyProductionを推測してみる。"
   ]
  },
  {
   "cell_type": "code",
   "execution_count": 27,
   "metadata": {},
   "outputs": [],
   "source": [
    "from sklearn.ensemble import RandomForestClassifier\n",
    "model = RandomForestClassifier(max_depth=1000)"
   ]
  },
  {
   "cell_type": "code",
   "execution_count": 28,
   "metadata": {},
   "outputs": [],
   "source": [
    "X = train_df.drop(['ID', 'Label', 'Year'], axis=1)\n",
    "test_X = test_df.drop(['ID', 'Label', 'Year'], axis=1)"
   ]
  },
  {
   "cell_type": "code",
   "execution_count": 29,
   "metadata": {},
   "outputs": [
    {
     "name": "stderr",
     "output_type": "stream",
     "text": [
      "/Users/saber/opt/anaconda3/lib/python3.7/site-packages/sklearn/ensemble/forest.py:245: FutureWarning: The default value of n_estimators will change from 10 in version 0.20 to 100 in 0.22.\n",
      "  \"10 in version 0.20 to 100 in 0.22.\", FutureWarning)\n",
      "/Users/saber/opt/anaconda3/lib/python3.7/site-packages/ipykernel_launcher.py:1: DataConversionWarning: A column-vector y was passed when a 1d array was expected. Please change the shape of y to (n_samples,), for example using ravel().\n",
      "  \"\"\"Entry point for launching an IPython kernel.\n"
     ]
    },
    {
     "data": {
      "text/plain": [
       "0.08"
      ]
     },
     "execution_count": 29,
     "metadata": {},
     "output_type": "execute_result"
    }
   ],
   "source": [
    "model.fit(X,Y)\n",
    "predicted = model.predict(test_X)\n",
    "model.score(test_X, test_Y)"
   ]
  },
  {
   "cell_type": "code",
   "execution_count": 47,
   "metadata": {},
   "outputs": [
    {
     "data": {
      "text/plain": [
       "1.0"
      ]
     },
     "execution_count": 47,
     "metadata": {},
     "output_type": "execute_result"
    }
   ],
   "source": [
    "model.score(test_X, predicted)"
   ]
  },
  {
   "cell_type": "code",
   "execution_count": 30,
   "metadata": {
    "scrolled": true
   },
   "outputs": [
    {
     "data": {
      "text/plain": [
       "<matplotlib.collections.PathCollection at 0x7fa7c7b66150>"
      ]
     },
     "execution_count": 30,
     "metadata": {},
     "output_type": "execute_result"
    },
    {
     "data": {
      "image/png": "[encoded data removed]",
      "text/plain": [
       "<Figure size 432x288 with 1 Axes>"
      ]
     },
     "metadata": {
      "needs_background": "light"
     },
     "output_type": "display_data"
    }
   ],
   "source": [
    "plt.scatter(test_X[['House']].values, predicted, color='red')\n",
    "plt.scatter(test_X[['House']].values, test_Y, color='blue')"
   ]
  },
  {
   "cell_type": "code",
   "execution_count": 31,
   "metadata": {},
   "outputs": [
    {
     "data": {
      "text/plain": [
       "<matplotlib.collections.PathCollection at 0x7fa7cbce7750>"
      ]
     },
     "execution_count": 31,
     "metadata": {},
     "output_type": "execute_result"
    },
    {
     "data": {
      "image/png": "[encoded data removed]",
      "text/plain": [
       "<Figure size 432x288 with 1 Axes>"
      ]
     },
     "metadata": {
      "needs_background": "light"
     },
     "output_type": "display_data"
    }
   ],
   "source": [
    "plt.scatter(test_X[['Daylight']].values, predicted, color='red')\n",
    "plt.scatter(test_X[['Daylight']].values, test_Y, color='blue')"
   ]
  },
  {
   "cell_type": "code",
   "execution_count": 32,
   "metadata": {},
   "outputs": [],
   "source": [
    "# RandomForestを使い、Month, Daylight, HouseからEnergyProductionを推測してみる。（Temperatureを除いた場合）\n",
    "X_hdm = train_df.drop(['ID', 'Label', 'Year', 'Temperature'], axis=1)\n",
    "test_X_hdm = test_df.drop(['ID', 'Label', 'Year', 'Temperature'], axis=1)"
   ]
  },
  {
   "cell_type": "code",
   "execution_count": 33,
   "metadata": {},
   "outputs": [
    {
     "name": "stderr",
     "output_type": "stream",
     "text": [
      "/Users/saber/opt/anaconda3/lib/python3.7/site-packages/sklearn/ensemble/forest.py:245: FutureWarning: The default value of n_estimators will change from 10 in version 0.20 to 100 in 0.22.\n",
      "  \"10 in version 0.20 to 100 in 0.22.\", FutureWarning)\n",
      "/Users/saber/opt/anaconda3/lib/python3.7/site-packages/ipykernel_launcher.py:2: DataConversionWarning: A column-vector y was passed when a 1d array was expected. Please change the shape of y to (n_samples,), for example using ravel().\n",
      "  \n"
     ]
    }
   ],
   "source": [
    "model_hdm = RandomForestClassifier(max_depth=1000)\n",
    "model_hdm.fit(X_hdm,Y)\n",
    "predicted_hdm = model_hdm.predict(test_X_hdm)"
   ]
  },
  {
   "cell_type": "code",
   "execution_count": 34,
   "metadata": {},
   "outputs": [
    {
     "data": {
      "text/plain": [
       "<matplotlib.collections.PathCollection at 0x7fa7cc179450>"
      ]
     },
     "execution_count": 34,
     "metadata": {},
     "output_type": "execute_result"
    },
    {
     "data": {
      "image/png": "[encoded data removed]",
      "text/plain": [
       "<Figure size 432x288 with 1 Axes>"
      ]
     },
     "metadata": {
      "needs_background": "light"
     },
     "output_type": "display_data"
    }
   ],
   "source": [
    "plt.scatter(test_X_hdm[['House']].values, predicted, color='red')\n",
    "plt.scatter(test_X_hdm[['House']].values, test_Y, color='blue')"
   ]
  },
  {
   "cell_type": "code",
   "execution_count": 35,
   "metadata": {},
   "outputs": [
    {
     "data": {
      "text/plain": [
       "<matplotlib.collections.PathCollection at 0x7fa7b5172450>"
      ]
     },
     "execution_count": 35,
     "metadata": {},
     "output_type": "execute_result"
    },
    {
     "data": {
      "image/png": "[encoded data removed]",
      "text/plain": [
       "<Figure size 432x288 with 1 Axes>"
      ]
     },
     "metadata": {
      "needs_background": "light"
     },
     "output_type": "display_data"
    }
   ],
   "source": [
    "plt.scatter(test_X_hdm[['Daylight']].values, predicted, color='red')\n",
    "plt.scatter(test_X_hdm[['Daylight']].values, test_Y, color='blue')"
   ]
  },
  {
   "cell_type": "code",
   "execution_count": 36,
   "metadata": {},
   "outputs": [
    {
     "data": {
      "text/plain": [
       "0.146"
      ]
     },
     "execution_count": 36,
     "metadata": {},
     "output_type": "execute_result"
    }
   ],
   "source": [
    "# Temperatureの影響があるかは、はっきりしない。\n",
    "model_hdm.score(test_X_hdm, test_Y)"
   ]
  },
  {
   "cell_type": "code",
   "execution_count": 39,
   "metadata": {},
   "outputs": [
    {
     "name": "stderr",
     "output_type": "stream",
     "text": [
      "/Users/saber/opt/anaconda3/lib/python3.7/site-packages/sklearn/utils/validation.py:724: DataConversionWarning: A column-vector y was passed when a 1d array was expected. Please change the shape of y to (n_samples, ), for example using ravel().\n",
      "  y = column_or_1d(y, warn=True)\n"
     ]
    },
    {
     "data": {
      "text/plain": [
       "SVC(C=1.0, cache_size=200, class_weight=None, coef0=0.0,\n",
       "    decision_function_shape='ovr', degree=3, gamma='scale', kernel='rbf',\n",
       "    max_iter=-1, probability=False, random_state=None, shrinking=True,\n",
       "    tol=0.001, verbose=False)"
      ]
     },
     "execution_count": 39,
     "metadata": {},
     "output_type": "execute_result"
    }
   ],
   "source": [
    "# SVCも試してみる。\n",
    "from sklearn.svm import SVC\n",
    "model_svc = SVC(gamma='scale')\n",
    "model_svc.fit(X, Y)"
   ]
  },
  {
   "cell_type": "code",
   "execution_count": 40,
   "metadata": {},
   "outputs": [],
   "source": [
    "test_Y_svc = model_svc.predict(test_X)"
   ]
  },
  {
   "cell_type": "code",
   "execution_count": 41,
   "metadata": {},
   "outputs": [
    {
     "data": {
      "text/plain": [
       "<matplotlib.collections.PathCollection at 0x7fa7b53d8d90>"
      ]
     },
     "execution_count": 41,
     "metadata": {},
     "output_type": "execute_result"
    },
    {
     "data": {
      "image/png": "[encoded data removed]",
      "text/plain": [
       "<Figure size 432x288 with 1 Axes>"
      ]
     },
     "metadata": {
      "needs_background": "light"
     },
     "output_type": "display_data"
    }
   ],
   "source": [
    "plt.scatter(test_X[['House']].values, test_Y_svc, color='red')\n",
    "plt.scatter(test_X[['House']].values, test_Y, color='blue')"
   ]
  },
  {
   "cell_type": "code",
   "execution_count": 42,
   "metadata": {},
   "outputs": [
    {
     "data": {
      "text/plain": [
       "0.0"
      ]
     },
     "execution_count": 42,
     "metadata": {},
     "output_type": "execute_result"
    }
   ],
   "source": [
    "model_svc.score(test_X, test_Y)"
   ]
  },
  {
   "cell_type": "code",
   "execution_count": 43,
   "metadata": {},
   "outputs": [
    {
     "name": "stderr",
     "output_type": "stream",
     "text": [
      "/Users/saber/opt/anaconda3/lib/python3.7/site-packages/sklearn/utils/validation.py:724: DataConversionWarning: A column-vector y was passed when a 1d array was expected. Please change the shape of y to (n_samples, ), for example using ravel().\n",
      "  y = column_or_1d(y, warn=True)\n"
     ]
    },
    {
     "data": {
      "text/plain": [
       "SVC(C=1.0, cache_size=200, class_weight=None, coef0=0.0,\n",
       "    decision_function_shape='ovr', degree=3, gamma='scale', kernel='rbf',\n",
       "    max_iter=-1, probability=False, random_state=None, shrinking=True,\n",
       "    tol=0.001, verbose=False)"
      ]
     },
     "execution_count": 43,
     "metadata": {},
     "output_type": "execute_result"
    }
   ],
   "source": [
    "model_svc_hdm = SVC(gamma='scale')\n",
    "model_svc_hdm.fit(X_hdm, Y)"
   ]
  },
  {
   "cell_type": "code",
   "execution_count": 48,
   "metadata": {},
   "outputs": [
    {
     "data": {
      "text/plain": [
       "<matplotlib.collections.PathCollection at 0x7fa7cbfc9610>"
      ]
     },
     "execution_count": 48,
     "metadata": {},
     "output_type": "execute_result"
    },
    {
     "data": {
      "image/png": "[encoded data removed]",
      "text/plain": [
       "<Figure size 432x288 with 1 Axes>"
      ]
     },
     "metadata": {
      "needs_background": "light"
     },
     "output_type": "display_data"
    }
   ],
   "source": [
    "# RandomForestを使い、Month, Daylight, HouseからEnergyProductionを推測したものが、この中では一番よかった。\n",
    "plt.scatter(test_X[['House']].values, predicted, color='red')\n",
    "plt.scatter(test_X[['House']].values, test_Y, color='blue')"
   ]
  },
  {
   "cell_type": "code",
   "execution_count": null,
   "metadata": {},
   "outputs": [],
   "source": []
  }
 ],
 "metadata": {
  "kernelspec": {
   "display_name": "Python 3",
   "language": "python",
   "name": "python3"
  },
  "language_info": {
   "codemirror_mode": {
    "name": "ipython",
    "version": 3
   },
   "file_extension": ".py",
   "mimetype": "text/x-python",
   "name": "python",
   "nbconvert_exporter": "python",
   "pygments_lexer": "ipython3",
   "version": "3.7.4"
  }
 },
 "nbformat": 4,
 "nbformat_minor": 2
}
